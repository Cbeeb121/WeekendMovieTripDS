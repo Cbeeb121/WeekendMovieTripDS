{
 "cells": [
  {
   "cell_type": "markdown",
   "metadata": {},
   "source": [
    "# Building Clusters with Weekend Movie Data\n",
    "\n",
    "For this project, we will be examining Weekend Movie data. I chose to use the smaller data set by convenience because the larger dataset is not capable of being added to the repo"
   ]
  },
  {
   "cell_type": "code",
   "execution_count": 1,
   "metadata": {},
   "outputs": [],
   "source": [
    "import sys\n",
    "sys.path.append('/usr/local/lib/python3.8/site-packages')\n",
    "import pandas as pd \n",
    "import numpy as np\n",
    "import matplotlib.pyplot as plt\n",
    "from sklearn.cluster import KMeans\n",
    "from sklearn.cluster import MiniBatchKMeans\n",
    "from sklearn.cluster import AgglomerativeClustering\n",
    "from numpy import unique \n",
    "from numpy import where\n",
    "from os import path "
   ]
  },
  {
   "cell_type": "markdown",
   "metadata": {},
   "source": [
    "Generating the dataframes from each of our different csv input files."
   ]
  },
  {
   "cell_type": "code",
   "execution_count": 2,
   "metadata": {},
   "outputs": [],
   "source": [
    "classes = ['links', 'movies', 'ratings', 'tags', 'genome-scores', 'genome-tags']\n",
    "for i in classes: \n",
    "    file = 'ml-latest/'\n",
    "    file += i\n",
    "    file  += '.csv'\n",
    "    i = i.replace(\"-\", \"_\")\n",
    "    globals()[i]= pd.read_csv(file)"
   ]
  },
  {
   "cell_type": "markdown",
   "metadata": {},
   "source": [
    "## Big Data \n",
    "These datasets are rather large. Let's get an idea of the scale of it all. "
   ]
  },
  {
   "cell_type": "markdown",
   "metadata": {},
   "source": [
    "### Ratings\n",
    "Ratings are created by users for a specific film with a decimal value rating between 0-5"
   ]
  },
  {
   "cell_type": "code",
   "execution_count": 3,
   "metadata": {},
   "outputs": [
    {
     "name": "stdout",
     "output_type": "stream",
     "text": [
      "Number of ratings: 27753444\n"
     ]
    },
    {
     "data": {
      "text/html": [
       "<div>\n",
       "<style scoped>\n",
       "    .dataframe tbody tr th:only-of-type {\n",
       "        vertical-align: middle;\n",
       "    }\n",
       "\n",
       "    .dataframe tbody tr th {\n",
       "        vertical-align: top;\n",
       "    }\n",
       "\n",
       "    .dataframe thead th {\n",
       "        text-align: right;\n",
       "    }\n",
       "</style>\n",
       "<table border=\"1\" class=\"dataframe\">\n",
       "  <thead>\n",
       "    <tr style=\"text-align: right;\">\n",
       "      <th></th>\n",
       "      <th>userId</th>\n",
       "      <th>movieId</th>\n",
       "      <th>rating</th>\n",
       "      <th>timestamp</th>\n",
       "    </tr>\n",
       "  </thead>\n",
       "  <tbody>\n",
       "    <tr>\n",
       "      <th>0</th>\n",
       "      <td>1</td>\n",
       "      <td>307</td>\n",
       "      <td>3.5</td>\n",
       "      <td>1256677221</td>\n",
       "    </tr>\n",
       "    <tr>\n",
       "      <th>1</th>\n",
       "      <td>1</td>\n",
       "      <td>481</td>\n",
       "      <td>3.5</td>\n",
       "      <td>1256677456</td>\n",
       "    </tr>\n",
       "    <tr>\n",
       "      <th>2</th>\n",
       "      <td>1</td>\n",
       "      <td>1091</td>\n",
       "      <td>1.5</td>\n",
       "      <td>1256677471</td>\n",
       "    </tr>\n",
       "    <tr>\n",
       "      <th>3</th>\n",
       "      <td>1</td>\n",
       "      <td>1257</td>\n",
       "      <td>4.5</td>\n",
       "      <td>1256677460</td>\n",
       "    </tr>\n",
       "    <tr>\n",
       "      <th>4</th>\n",
       "      <td>1</td>\n",
       "      <td>1449</td>\n",
       "      <td>4.5</td>\n",
       "      <td>1256677264</td>\n",
       "    </tr>\n",
       "  </tbody>\n",
       "</table>\n",
       "</div>"
      ],
      "text/plain": [
       "   userId  movieId  rating   timestamp\n",
       "0       1      307     3.5  1256677221\n",
       "1       1      481     3.5  1256677456\n",
       "2       1     1091     1.5  1256677471\n",
       "3       1     1257     4.5  1256677460\n",
       "4       1     1449     4.5  1256677264"
      ]
     },
     "execution_count": 3,
     "metadata": {},
     "output_type": "execute_result"
    }
   ],
   "source": [
    "print(\"Number of ratings: %d\" % ratings.shape[0])\n",
    "ratings.head()"
   ]
  },
  {
   "cell_type": "markdown",
   "metadata": {},
   "source": [
    "### Movies \n",
    "Movies are pretty straight forward and will be referenced in other data sets"
   ]
  },
  {
   "cell_type": "code",
   "execution_count": 4,
   "metadata": {},
   "outputs": [
    {
     "name": "stdout",
     "output_type": "stream",
     "text": [
      "Number of movies: 58098\n"
     ]
    },
    {
     "data": {
      "text/html": [
       "<div>\n",
       "<style scoped>\n",
       "    .dataframe tbody tr th:only-of-type {\n",
       "        vertical-align: middle;\n",
       "    }\n",
       "\n",
       "    .dataframe tbody tr th {\n",
       "        vertical-align: top;\n",
       "    }\n",
       "\n",
       "    .dataframe thead th {\n",
       "        text-align: right;\n",
       "    }\n",
       "</style>\n",
       "<table border=\"1\" class=\"dataframe\">\n",
       "  <thead>\n",
       "    <tr style=\"text-align: right;\">\n",
       "      <th></th>\n",
       "      <th>movieId</th>\n",
       "      <th>title</th>\n",
       "      <th>genres</th>\n",
       "    </tr>\n",
       "  </thead>\n",
       "  <tbody>\n",
       "    <tr>\n",
       "      <th>0</th>\n",
       "      <td>1</td>\n",
       "      <td>Toy Story (1995)</td>\n",
       "      <td>Adventure|Animation|Children|Comedy|Fantasy</td>\n",
       "    </tr>\n",
       "    <tr>\n",
       "      <th>1</th>\n",
       "      <td>2</td>\n",
       "      <td>Jumanji (1995)</td>\n",
       "      <td>Adventure|Children|Fantasy</td>\n",
       "    </tr>\n",
       "    <tr>\n",
       "      <th>2</th>\n",
       "      <td>3</td>\n",
       "      <td>Grumpier Old Men (1995)</td>\n",
       "      <td>Comedy|Romance</td>\n",
       "    </tr>\n",
       "    <tr>\n",
       "      <th>3</th>\n",
       "      <td>4</td>\n",
       "      <td>Waiting to Exhale (1995)</td>\n",
       "      <td>Comedy|Drama|Romance</td>\n",
       "    </tr>\n",
       "    <tr>\n",
       "      <th>4</th>\n",
       "      <td>5</td>\n",
       "      <td>Father of the Bride Part II (1995)</td>\n",
       "      <td>Comedy</td>\n",
       "    </tr>\n",
       "  </tbody>\n",
       "</table>\n",
       "</div>"
      ],
      "text/plain": [
       "   movieId                               title  \\\n",
       "0        1                    Toy Story (1995)   \n",
       "1        2                      Jumanji (1995)   \n",
       "2        3             Grumpier Old Men (1995)   \n",
       "3        4            Waiting to Exhale (1995)   \n",
       "4        5  Father of the Bride Part II (1995)   \n",
       "\n",
       "                                        genres  \n",
       "0  Adventure|Animation|Children|Comedy|Fantasy  \n",
       "1                   Adventure|Children|Fantasy  \n",
       "2                               Comedy|Romance  \n",
       "3                         Comedy|Drama|Romance  \n",
       "4                                       Comedy  "
      ]
     },
     "execution_count": 4,
     "metadata": {},
     "output_type": "execute_result"
    }
   ],
   "source": [
    "print(\"Number of movies: %d\" % movies.shape[0])\n",
    "movies.head()"
   ]
  },
  {
   "cell_type": "markdown",
   "metadata": {},
   "source": [
    "### Genome tags and scores \n",
    "Genome scores and tags are great for the clustering analysis. The `genome-scores` dataset tells us the relevancy of a certain tag to a certain movie. `genome-tags` gives us a translation from a tagId to it's actual tag value. "
   ]
  },
  {
   "cell_type": "code",
   "execution_count": 5,
   "metadata": {},
   "outputs": [
    {
     "name": "stdout",
     "output_type": "stream",
     "text": [
      "Genome Tags: 1128\n"
     ]
    },
    {
     "data": {
      "text/html": [
       "<div>\n",
       "<style scoped>\n",
       "    .dataframe tbody tr th:only-of-type {\n",
       "        vertical-align: middle;\n",
       "    }\n",
       "\n",
       "    .dataframe tbody tr th {\n",
       "        vertical-align: top;\n",
       "    }\n",
       "\n",
       "    .dataframe thead th {\n",
       "        text-align: right;\n",
       "    }\n",
       "</style>\n",
       "<table border=\"1\" class=\"dataframe\">\n",
       "  <thead>\n",
       "    <tr style=\"text-align: right;\">\n",
       "      <th></th>\n",
       "      <th>tagId</th>\n",
       "      <th>tag</th>\n",
       "    </tr>\n",
       "  </thead>\n",
       "  <tbody>\n",
       "    <tr>\n",
       "      <th>0</th>\n",
       "      <td>1</td>\n",
       "      <td>007</td>\n",
       "    </tr>\n",
       "    <tr>\n",
       "      <th>1</th>\n",
       "      <td>2</td>\n",
       "      <td>007 (series)</td>\n",
       "    </tr>\n",
       "    <tr>\n",
       "      <th>2</th>\n",
       "      <td>3</td>\n",
       "      <td>18th century</td>\n",
       "    </tr>\n",
       "    <tr>\n",
       "      <th>3</th>\n",
       "      <td>4</td>\n",
       "      <td>1920s</td>\n",
       "    </tr>\n",
       "    <tr>\n",
       "      <th>4</th>\n",
       "      <td>5</td>\n",
       "      <td>1930s</td>\n",
       "    </tr>\n",
       "  </tbody>\n",
       "</table>\n",
       "</div>"
      ],
      "text/plain": [
       "   tagId           tag\n",
       "0      1           007\n",
       "1      2  007 (series)\n",
       "2      3  18th century\n",
       "3      4         1920s\n",
       "4      5         1930s"
      ]
     },
     "execution_count": 5,
     "metadata": {},
     "output_type": "execute_result"
    }
   ],
   "source": [
    "print(\"Genome Tags: %d\" % genome_tags.shape[0])\n",
    "genome_tags.head()"
   ]
  },
  {
   "cell_type": "code",
   "execution_count": 6,
   "metadata": {},
   "outputs": [
    {
     "name": "stdout",
     "output_type": "stream",
     "text": [
      "Genome Scores: 14862528\n"
     ]
    },
    {
     "data": {
      "text/html": [
       "<div>\n",
       "<style scoped>\n",
       "    .dataframe tbody tr th:only-of-type {\n",
       "        vertical-align: middle;\n",
       "    }\n",
       "\n",
       "    .dataframe tbody tr th {\n",
       "        vertical-align: top;\n",
       "    }\n",
       "\n",
       "    .dataframe thead th {\n",
       "        text-align: right;\n",
       "    }\n",
       "</style>\n",
       "<table border=\"1\" class=\"dataframe\">\n",
       "  <thead>\n",
       "    <tr style=\"text-align: right;\">\n",
       "      <th></th>\n",
       "      <th>movieId</th>\n",
       "      <th>tagId</th>\n",
       "      <th>relevance</th>\n",
       "    </tr>\n",
       "  </thead>\n",
       "  <tbody>\n",
       "    <tr>\n",
       "      <th>0</th>\n",
       "      <td>1</td>\n",
       "      <td>1</td>\n",
       "      <td>0.02900</td>\n",
       "    </tr>\n",
       "    <tr>\n",
       "      <th>1</th>\n",
       "      <td>1</td>\n",
       "      <td>2</td>\n",
       "      <td>0.02375</td>\n",
       "    </tr>\n",
       "    <tr>\n",
       "      <th>2</th>\n",
       "      <td>1</td>\n",
       "      <td>3</td>\n",
       "      <td>0.05425</td>\n",
       "    </tr>\n",
       "    <tr>\n",
       "      <th>3</th>\n",
       "      <td>1</td>\n",
       "      <td>4</td>\n",
       "      <td>0.06875</td>\n",
       "    </tr>\n",
       "    <tr>\n",
       "      <th>4</th>\n",
       "      <td>1</td>\n",
       "      <td>5</td>\n",
       "      <td>0.16000</td>\n",
       "    </tr>\n",
       "  </tbody>\n",
       "</table>\n",
       "</div>"
      ],
      "text/plain": [
       "   movieId  tagId  relevance\n",
       "0        1      1    0.02900\n",
       "1        1      2    0.02375\n",
       "2        1      3    0.05425\n",
       "3        1      4    0.06875\n",
       "4        1      5    0.16000"
      ]
     },
     "execution_count": 6,
     "metadata": {},
     "output_type": "execute_result"
    }
   ],
   "source": [
    "print(\"Genome Scores: %d\" % genome_scores.shape[0])\n",
    "genome_scores.head()"
   ]
  },
  {
   "cell_type": "markdown",
   "metadata": {},
   "source": [
    "# Feature Engineering\n",
    "\n",
    "We will need to define our way of clustering films into different.. well.. clusters. We'll define similarities among films based on rating and tags.\n",
    "\n",
    "From our Averages of Ratings and Number of Ratings per film datasets, we can form a larger set which will then be merged into our larger movies dataset. \n",
    "\n",
    "Because of how much we've already modified our data, let's save it as a processed file. Just to be fancy, let's name it `films.csv` because _Film_ sounds more thought out and \"processed\" than _Movie_."
   ]
  },
  {
   "cell_type": "code",
   "execution_count": 7,
   "metadata": {},
   "outputs": [],
   "source": [
    "if path.exists(\"data/processed/films.csv\"):\n",
    "    movies = pd.read_csv(\"data/processed/films.csv\")\n",
    "    movies.drop(movies.columns[0], inplace=True, axis=1)\n",
    "else:\n",
    "    avg_ratings = pd.DataFrame(ratings.groupby(\"movieId\").apply(lambda row: np.average(row[\"rating\"])), columns=[\"avgRating\"])\n",
    "    num_ratings = pd.DataFrame(ratings[[\"movieId\", \"userId\"]].groupby(\"movieId\").agg(\"count\")).rename({\"userId\": \"numOfRatings\"}, axis=1)\n",
    "    merged_ratings = avg_ratings.merge(num_ratings, left_index=True, right_index=True)\n",
    "    movies = movies.merge(merged_ratings, left_on=\"movieId\", right_index=True)\n",
    "    movies.to_csv(\"data/processed/films.csv\")"
   ]
  },
  {
   "cell_type": "code",
   "execution_count": 8,
   "metadata": {},
   "outputs": [
    {
     "data": {
      "text/html": [
       "<div>\n",
       "<style scoped>\n",
       "    .dataframe tbody tr th:only-of-type {\n",
       "        vertical-align: middle;\n",
       "    }\n",
       "\n",
       "    .dataframe tbody tr th {\n",
       "        vertical-align: top;\n",
       "    }\n",
       "\n",
       "    .dataframe thead th {\n",
       "        text-align: right;\n",
       "    }\n",
       "</style>\n",
       "<table border=\"1\" class=\"dataframe\">\n",
       "  <thead>\n",
       "    <tr style=\"text-align: right;\">\n",
       "      <th></th>\n",
       "      <th>movieId</th>\n",
       "      <th>title</th>\n",
       "      <th>genres</th>\n",
       "      <th>avgRating</th>\n",
       "      <th>numOfRatings</th>\n",
       "    </tr>\n",
       "  </thead>\n",
       "  <tbody>\n",
       "    <tr>\n",
       "      <th>0</th>\n",
       "      <td>1</td>\n",
       "      <td>Toy Story (1995)</td>\n",
       "      <td>Adventure|Animation|Children|Comedy|Fantasy</td>\n",
       "      <td>3.886649</td>\n",
       "      <td>68469</td>\n",
       "    </tr>\n",
       "    <tr>\n",
       "      <th>1</th>\n",
       "      <td>2</td>\n",
       "      <td>Jumanji (1995)</td>\n",
       "      <td>Adventure|Children|Fantasy</td>\n",
       "      <td>3.246583</td>\n",
       "      <td>27143</td>\n",
       "    </tr>\n",
       "    <tr>\n",
       "      <th>2</th>\n",
       "      <td>3</td>\n",
       "      <td>Grumpier Old Men (1995)</td>\n",
       "      <td>Comedy|Romance</td>\n",
       "      <td>3.173981</td>\n",
       "      <td>15585</td>\n",
       "    </tr>\n",
       "    <tr>\n",
       "      <th>3</th>\n",
       "      <td>4</td>\n",
       "      <td>Waiting to Exhale (1995)</td>\n",
       "      <td>Comedy|Drama|Romance</td>\n",
       "      <td>2.874540</td>\n",
       "      <td>2989</td>\n",
       "    </tr>\n",
       "    <tr>\n",
       "      <th>4</th>\n",
       "      <td>5</td>\n",
       "      <td>Father of the Bride Part II (1995)</td>\n",
       "      <td>Comedy</td>\n",
       "      <td>3.077291</td>\n",
       "      <td>15474</td>\n",
       "    </tr>\n",
       "  </tbody>\n",
       "</table>\n",
       "</div>"
      ],
      "text/plain": [
       "   movieId                               title  \\\n",
       "0        1                    Toy Story (1995)   \n",
       "1        2                      Jumanji (1995)   \n",
       "2        3             Grumpier Old Men (1995)   \n",
       "3        4            Waiting to Exhale (1995)   \n",
       "4        5  Father of the Bride Part II (1995)   \n",
       "\n",
       "                                        genres  avgRating  numOfRatings  \n",
       "0  Adventure|Animation|Children|Comedy|Fantasy   3.886649         68469  \n",
       "1                   Adventure|Children|Fantasy   3.246583         27143  \n",
       "2                               Comedy|Romance   3.173981         15585  \n",
       "3                         Comedy|Drama|Romance   2.874540          2989  \n",
       "4                                       Comedy   3.077291         15474  "
      ]
     },
     "execution_count": 8,
     "metadata": {},
     "output_type": "execute_result"
    }
   ],
   "source": [
    "movies.head()"
   ]
  },
  {
   "cell_type": "code",
   "execution_count": 9,
   "metadata": {},
   "outputs": [],
   "source": [
    "movie_ids = np.intersect1d(movies[\"movieId\"].unique(), genome_scores[\"movieId\"].unique())"
   ]
  },
  {
   "cell_type": "code",
   "execution_count": 10,
   "metadata": {},
   "outputs": [],
   "source": [
    "movies = movies[np.isin(movies[\"movieId\"], movie_ids)]"
   ]
  },
  {
   "cell_type": "code",
   "execution_count": 11,
   "metadata": {},
   "outputs": [],
   "source": [
    "genome_scores = genome_scores[np.isin(genome_scores[\"movieId\"], movie_ids)]"
   ]
  },
  {
   "cell_type": "markdown",
   "metadata": {},
   "source": [
    "# Cluster Analysis\n",
    "Let's break our analysis into two parts. For the first, we'll isolate a single film (The Truman Show), and find films similar using clustering through ratings and tags. Secondly, we'll use a similar approach with the popular KMeans clustering algorithm."
   ]
  },
  {
   "cell_type": "code",
   "execution_count": 12,
   "metadata": {},
   "outputs": [],
   "source": [
    "truman_show = movies.loc[movies[\"title\"].str.contains(\"Truman Show\")]"
   ]
  },
  {
   "cell_type": "code",
   "execution_count": 13,
   "metadata": {},
   "outputs": [
    {
     "name": "stdout",
     "output_type": "stream",
     "text": [
      "ID: 1682\n",
      "TITLE: Truman Show, The (1998)\n",
      "RATING: 3.8455269880053313\n"
     ]
    }
   ],
   "source": [
    "ts_id, ts_title, ts_rating = truman_show[\"movieId\"].values[0], truman_show[\"title\"].values[0], truman_show[\"avgRating\"].values[0]\n",
    "print(\"ID: %s\" % ts_id)\n",
    "print(\"TITLE: %s\" % ts_title)\n",
    "print(\"RATING: %s\" % ts_rating)"
   ]
  },
  {
   "cell_type": "markdown",
   "metadata": {},
   "source": [
    "For clustering based on tagging, we should grab the relevant tags from \"The Truman Show\" as a centerpoint for our clustering process. "
   ]
  },
  {
   "cell_type": "code",
   "execution_count": 14,
   "metadata": {},
   "outputs": [
    {
     "name": "stdout",
     "output_type": "stream",
     "text": [
      "reality tv\n",
      "original\n",
      "modern fantasy\n"
     ]
    }
   ],
   "source": [
    "truman_show_tags = genome_scores[genome_scores[\"movieId\"] == ts_id].sort_values(by=[\"relevance\"], ascending=False).take([0,1,2])\n",
    "tag_ids = truman_show_tags[\"tagId\"].values\n",
    "for i in [0,1,2]:\n",
    "    print(\"%s\" % genome_tags[\"tag\"][genome_tags[\"tagId\"] == tag_ids[i]].values[0])"
   ]
  },
  {
   "cell_type": "code",
   "execution_count": 15,
   "metadata": {},
   "outputs": [],
   "source": [
    "test_data = pd.DataFrame(movies)\n",
    "\n",
    "if path.exists(\"data/processed/test_data.csv\"):\n",
    "    test_data = pd.read_csv(\"data/processed/test_data.csv\")\n",
    "    test_data.drop(test_data.columns[0], inplace=True, axis=1)\n",
    "else:\n",
    "    def relativity(row):\n",
    "        mid = row[\"movieId\"]\n",
    "        g_tags = genome_scores.loc[genome_scores[\"movieId\"] == mid]\n",
    "        return sum(g_tags.loc[g_tags[\"tagId\"].isin(tag_ids), \"relevance\"])\n",
    "\n",
    "    test_data[\"relativityFactor\"] = test_data.apply(relativity, axis=1)\n",
    "    test_data.to_csv(\"data/processed/test_data.csv\")\n"
   ]
  },
  {
   "cell_type": "code",
   "execution_count": 16,
   "metadata": {},
   "outputs": [
    {
     "data": {
      "text/html": [
       "<div>\n",
       "<style scoped>\n",
       "    .dataframe tbody tr th:only-of-type {\n",
       "        vertical-align: middle;\n",
       "    }\n",
       "\n",
       "    .dataframe tbody tr th {\n",
       "        vertical-align: top;\n",
       "    }\n",
       "\n",
       "    .dataframe thead th {\n",
       "        text-align: right;\n",
       "    }\n",
       "</style>\n",
       "<table border=\"1\" class=\"dataframe\">\n",
       "  <thead>\n",
       "    <tr style=\"text-align: right;\">\n",
       "      <th></th>\n",
       "      <th>movieId</th>\n",
       "      <th>title</th>\n",
       "      <th>genres</th>\n",
       "      <th>avgRating</th>\n",
       "      <th>numOfRatings</th>\n",
       "      <th>relativityFactor</th>\n",
       "    </tr>\n",
       "  </thead>\n",
       "  <tbody>\n",
       "    <tr>\n",
       "      <th>0</th>\n",
       "      <td>1</td>\n",
       "      <td>Toy Story (1995)</td>\n",
       "      <td>Adventure|Animation|Children|Comedy|Fantasy</td>\n",
       "      <td>3.886649</td>\n",
       "      <td>68469</td>\n",
       "      <td>1.13550</td>\n",
       "    </tr>\n",
       "    <tr>\n",
       "      <th>1</th>\n",
       "      <td>2</td>\n",
       "      <td>Jumanji (1995)</td>\n",
       "      <td>Adventure|Children|Fantasy</td>\n",
       "      <td>3.246583</td>\n",
       "      <td>27143</td>\n",
       "      <td>0.93400</td>\n",
       "    </tr>\n",
       "    <tr>\n",
       "      <th>2</th>\n",
       "      <td>3</td>\n",
       "      <td>Grumpier Old Men (1995)</td>\n",
       "      <td>Comedy|Romance</td>\n",
       "      <td>3.173981</td>\n",
       "      <td>15585</td>\n",
       "      <td>0.88500</td>\n",
       "    </tr>\n",
       "    <tr>\n",
       "      <th>3</th>\n",
       "      <td>4</td>\n",
       "      <td>Waiting to Exhale (1995)</td>\n",
       "      <td>Comedy|Drama|Romance</td>\n",
       "      <td>2.874540</td>\n",
       "      <td>2989</td>\n",
       "      <td>0.79200</td>\n",
       "    </tr>\n",
       "    <tr>\n",
       "      <th>4</th>\n",
       "      <td>5</td>\n",
       "      <td>Father of the Bride Part II (1995)</td>\n",
       "      <td>Comedy</td>\n",
       "      <td>3.077291</td>\n",
       "      <td>15474</td>\n",
       "      <td>0.86375</td>\n",
       "    </tr>\n",
       "  </tbody>\n",
       "</table>\n",
       "</div>"
      ],
      "text/plain": [
       "   movieId                               title  \\\n",
       "0        1                    Toy Story (1995)   \n",
       "1        2                      Jumanji (1995)   \n",
       "2        3             Grumpier Old Men (1995)   \n",
       "3        4            Waiting to Exhale (1995)   \n",
       "4        5  Father of the Bride Part II (1995)   \n",
       "\n",
       "                                        genres  avgRating  numOfRatings  \\\n",
       "0  Adventure|Animation|Children|Comedy|Fantasy   3.886649         68469   \n",
       "1                   Adventure|Children|Fantasy   3.246583         27143   \n",
       "2                               Comedy|Romance   3.173981         15585   \n",
       "3                         Comedy|Drama|Romance   2.874540          2989   \n",
       "4                                       Comedy   3.077291         15474   \n",
       "\n",
       "   relativityFactor  \n",
       "0           1.13550  \n",
       "1           0.93400  \n",
       "2           0.88500  \n",
       "3           0.79200  \n",
       "4           0.86375  "
      ]
     },
     "execution_count": 16,
     "metadata": {},
     "output_type": "execute_result"
    }
   ],
   "source": [
    "test_data.head()"
   ]
  },
  {
   "cell_type": "code",
   "execution_count": 17,
   "metadata": {},
   "outputs": [],
   "source": [
    "movie_relativity = pd.Series(test_data[\"relativityFactor\"].values, index=test_data[\"movieId\"])\n",
    "movie_ratings = pd.Series(test_data[\"avgRating\"].values, index=test_data[\"movieId\"])\n",
    "\n",
    "data = np.array(list(zip(movie_ratings.values, movie_relativity.values, movie_ratings.index)))\n",
    "data = np.array(list(filter(lambda d: d[1] > 1, data)))\n",
    "\n",
    "# Passing the Truman Show ID\n",
    "test_data_idx = np.where(data[:, 2] == ts_id)[0][0]\n",
    "truman_show_relativity_factor = data[test_data_idx, 1]"
   ]
  },
  {
   "cell_type": "code",
   "execution_count": 18,
   "metadata": {},
   "outputs": [
    {
     "data": {
      "image/png": "[encoded data removed]",
      "text/plain": [
       "<Figure size 720x360 with 1 Axes>"
      ]
     },
     "metadata": {
      "needs_background": "light"
     },
     "output_type": "display_data"
    }
   ],
   "source": [
    "plt.figure(figsize=(10, 5))\n",
    "\n",
    "plt.scatter(data[:, 0], data[:, 1])\n",
    "plt.title(\"Film Relevancy to The Truman Show\")\n",
    "plt.ylabel(\"Relativity\")\n",
    "plt.xlabel(\"Rating\")\n",
    "\n",
    "# Special label for our film of focus \"The Truman Show\"\n",
    "plt.scatter(ts_rating, truman_show_relativity_factor, c='r')\n",
    "plt.text(ts_rating + 0.1, truman_show_relativity_factor, ts_title, fontsize= 11, bbox=dict(facecolor='white'))\n",
    "\n",
    "plt.show()"
   ]
  },
  {
   "cell_type": "markdown",
   "metadata": {},
   "source": [
    "Interesting. We have here Truman Show sitting in the middle of the pack. Let's jump to using this data in K-Means to provide more suggestions for future movie nights! "
   ]
  },
  {
   "cell_type": "markdown",
   "metadata": {},
   "source": [
    "# Building Clusters - K-Means"
   ]
  },
  {
   "cell_type": "code",
   "execution_count": 19,
   "metadata": {},
   "outputs": [],
   "source": [
    "kmeans = KMeans(n_clusters=10).fit(data[:, :2])\n",
    "labels = kmeans.labels_\n",
    "\n",
    "movie_cluster = labels[test_data_idx]\n",
    "related_movie_idxs = np.where(labels == movie_cluster)\n",
    "related_movie_ids = data[related_movie_idxs][:, 2]\n",
    "kmeans_related_movies = test_data[test_data[\"movieId\"].isin(related_movie_ids)].sort_values(by=[\"relativityFactor\"], ascending=False)"
   ]
  },
  {
   "cell_type": "code",
   "execution_count": 20,
   "metadata": {},
   "outputs": [],
   "source": [
    "# Getting rid of our film of focus\n",
    "kmeans_related_movies = kmeans_related_movies.drop(kmeans_related_movies.index[0])"
   ]
  },
  {
   "cell_type": "code",
   "execution_count": 27,
   "metadata": {},
   "outputs": [
    {
     "data": {
      "image/png": "[encoded data removed]",
      "text/plain": [
       "<Figure size 720x360 with 1 Axes>"
      ]
     },
     "metadata": {
      "needs_background": "light"
     },
     "output_type": "display_data"
    }
   ],
   "source": [
    "plt.figure(figsize=(10, 5))\n",
    "plt.cool()\n",
    "\n",
    "plt.scatter(data[:, 0], data[:, 1], c=labels)\n",
    "\n",
    "plt.title(\"Film Relativity by Rating and Relativity (K-Means)\")\n",
    "plt.xlabel(\"Rating\")\n",
    "plt.ylabel(\"Relativity\")\n",
    "\n",
    "plt.scatter(ts_rating, truman_show_relativity_factor, c='g')\n",
    "plt.text(ts_rating + 0.1, truman_show_relativity_factor, ts_title, fontsize=11, bbox=dict(facecolor='white'))\n",
    "\n",
    "plt.show()"
   ]
  },
  {
   "cell_type": "markdown",
   "metadata": {},
   "source": [
    "# Building Clusters - Hierarchical Agglomerative "
   ]
  },
  {
   "cell_type": "code",
   "execution_count": 22,
   "metadata": {},
   "outputs": [],
   "source": [
    "agg = AgglomerativeClustering(n_clusters=10).fit(data[:, :2])\n",
    "labels = agg.labels_\n",
    "\n",
    "movie_cluster = labels[test_data_idx]\n",
    "related_movie_idxs = np.where(labels == movie_cluster)\n",
    "related_movie_ids = data[related_movie_idxs][:, 2]\n",
    "agg_related_movies = test_data[test_data[\"movieId\"].isin(related_movie_ids)].sort_values(by=[\"relativityFactor\"], ascending=False)"
   ]
  },
  {
   "cell_type": "code",
   "execution_count": 23,
   "metadata": {},
   "outputs": [],
   "source": [
    "# Getting rid of our film of focus\n",
    "agg_related_movies = agg_related_movies.drop(agg_related_movies.index[0])"
   ]
  },
  {
   "cell_type": "code",
   "execution_count": 28,
   "metadata": {},
   "outputs": [
    {
     "data": {
      "image/png": "[encoded data removed]",
      "text/plain": [
       "<Figure size 720x360 with 1 Axes>"
      ]
     },
     "metadata": {
      "needs_background": "light"
     },
     "output_type": "display_data"
    }
   ],
   "source": [
    "plt.figure(figsize=(10, 5))\n",
    "plt.cool()\n",
    "\n",
    "plt.scatter(data[:, 0], data[:, 1], c=labels)\n",
    "\n",
    "plt.title(\"Film Relativity by Rating and Relativity (Agglomerative Clustering)\")\n",
    "plt.xlabel(\"Rating\")\n",
    "plt.ylabel(\"Relativity\")\n",
    "\n",
    "plt.scatter(ts_rating, truman_show_relativity_factor, c='g')\n",
    "plt.text(ts_rating + 0.1, truman_show_relativity_factor, ts_title, fontsize=11, bbox=dict(facecolor='white'))\n",
    "\n",
    "plt.show()"
   ]
  },
  {
   "cell_type": "markdown",
   "metadata": {},
   "source": [
    "# Conclusion "
   ]
  },
  {
   "cell_type": "code",
   "execution_count": 31,
   "metadata": {},
   "outputs": [
    {
     "data": {
      "text/html": [
       "<div>\n",
       "<style scoped>\n",
       "    .dataframe tbody tr th:only-of-type {\n",
       "        vertical-align: middle;\n",
       "    }\n",
       "\n",
       "    .dataframe tbody tr th {\n",
       "        vertical-align: top;\n",
       "    }\n",
       "\n",
       "    .dataframe thead th {\n",
       "        text-align: right;\n",
       "    }\n",
       "</style>\n",
       "<table border=\"1\" class=\"dataframe\">\n",
       "  <thead>\n",
       "    <tr style=\"text-align: right;\">\n",
       "      <th></th>\n",
       "      <th>movieId</th>\n",
       "      <th>title</th>\n",
       "      <th>genres</th>\n",
       "      <th>avgRating</th>\n",
       "      <th>numOfRatings</th>\n",
       "    </tr>\n",
       "  </thead>\n",
       "  <tbody>\n",
       "    <tr>\n",
       "      <th>1625</th>\n",
       "      <td>1682</td>\n",
       "      <td>Truman Show, The (1998)</td>\n",
       "      <td>Comedy|Drama|Sci-Fi</td>\n",
       "      <td>3.845527</td>\n",
       "      <td>36016</td>\n",
       "    </tr>\n",
       "  </tbody>\n",
       "</table>\n",
       "</div>"
      ],
      "text/plain": [
       "      movieId                    title               genres  avgRating  \\\n",
       "1625     1682  Truman Show, The (1998)  Comedy|Drama|Sci-Fi   3.845527   \n",
       "\n",
       "      numOfRatings  \n",
       "1625         36016  "
      ]
     },
     "execution_count": 31,
     "metadata": {},
     "output_type": "execute_result"
    }
   ],
   "source": [
    "truman_show.head()"
   ]
  },
  {
   "cell_type": "code",
   "execution_count": 29,
   "metadata": {},
   "outputs": [
    {
     "data": {
      "text/html": [
       "<div>\n",
       "<style scoped>\n",
       "    .dataframe tbody tr th:only-of-type {\n",
       "        vertical-align: middle;\n",
       "    }\n",
       "\n",
       "    .dataframe tbody tr th {\n",
       "        vertical-align: top;\n",
       "    }\n",
       "\n",
       "    .dataframe thead th {\n",
       "        text-align: right;\n",
       "    }\n",
       "</style>\n",
       "<table border=\"1\" class=\"dataframe\">\n",
       "  <thead>\n",
       "    <tr style=\"text-align: right;\">\n",
       "      <th></th>\n",
       "      <th>movieId</th>\n",
       "      <th>title</th>\n",
       "      <th>genres</th>\n",
       "      <th>avgRating</th>\n",
       "      <th>numOfRatings</th>\n",
       "      <th>relativityFactor</th>\n",
       "    </tr>\n",
       "  </thead>\n",
       "  <tbody>\n",
       "    <tr>\n",
       "      <th>22209</th>\n",
       "      <td>106236</td>\n",
       "      <td>Somm (2012)</td>\n",
       "      <td>Documentary</td>\n",
       "      <td>3.491667</td>\n",
       "      <td>60</td>\n",
       "      <td>2.29450</td>\n",
       "    </tr>\n",
       "    <tr>\n",
       "      <th>18948</th>\n",
       "      <td>93840</td>\n",
       "      <td>Cabin in the Woods, The (2012)</td>\n",
       "      <td>Comedy|Horror|Sci-Fi|Thriller</td>\n",
       "      <td>3.613047</td>\n",
       "      <td>6055</td>\n",
       "      <td>2.18875</td>\n",
       "    </tr>\n",
       "    <tr>\n",
       "      <th>2912</th>\n",
       "      <td>2997</td>\n",
       "      <td>Being John Malkovich (1999)</td>\n",
       "      <td>Comedy|Drama|Fantasy</td>\n",
       "      <td>3.931551</td>\n",
       "      <td>33390</td>\n",
       "      <td>2.05525</td>\n",
       "    </tr>\n",
       "    <tr>\n",
       "      <th>1172</th>\n",
       "      <td>1197</td>\n",
       "      <td>Princess Bride, The (1987)</td>\n",
       "      <td>Action|Adventure|Comedy|Fantasy|Romance</td>\n",
       "      <td>4.124808</td>\n",
       "      <td>42878</td>\n",
       "      <td>1.99775</td>\n",
       "    </tr>\n",
       "    <tr>\n",
       "      <th>9256</th>\n",
       "      <td>27251</td>\n",
       "      <td>10th Kingdom, The (2000)</td>\n",
       "      <td>Adventure|Comedy|Fantasy</td>\n",
       "      <td>3.880522</td>\n",
       "      <td>498</td>\n",
       "      <td>1.95275</td>\n",
       "    </tr>\n",
       "  </tbody>\n",
       "</table>\n",
       "</div>"
      ],
      "text/plain": [
       "       movieId                           title  \\\n",
       "22209   106236                     Somm (2012)   \n",
       "18948    93840  Cabin in the Woods, The (2012)   \n",
       "2912      2997     Being John Malkovich (1999)   \n",
       "1172      1197      Princess Bride, The (1987)   \n",
       "9256     27251        10th Kingdom, The (2000)   \n",
       "\n",
       "                                        genres  avgRating  numOfRatings  \\\n",
       "22209                              Documentary   3.491667            60   \n",
       "18948            Comedy|Horror|Sci-Fi|Thriller   3.613047          6055   \n",
       "2912                      Comedy|Drama|Fantasy   3.931551         33390   \n",
       "1172   Action|Adventure|Comedy|Fantasy|Romance   4.124808         42878   \n",
       "9256                  Adventure|Comedy|Fantasy   3.880522           498   \n",
       "\n",
       "       relativityFactor  \n",
       "22209           2.29450  \n",
       "18948           2.18875  \n",
       "2912            2.05525  \n",
       "1172            1.99775  \n",
       "9256            1.95275  "
      ]
     },
     "execution_count": 29,
     "metadata": {},
     "output_type": "execute_result"
    }
   ],
   "source": [
    "kmeans_related_movies.head()"
   ]
  },
  {
   "cell_type": "code",
   "execution_count": 30,
   "metadata": {},
   "outputs": [
    {
     "data": {
      "text/html": [
       "<div>\n",
       "<style scoped>\n",
       "    .dataframe tbody tr th:only-of-type {\n",
       "        vertical-align: middle;\n",
       "    }\n",
       "\n",
       "    .dataframe tbody tr th {\n",
       "        vertical-align: top;\n",
       "    }\n",
       "\n",
       "    .dataframe thead th {\n",
       "        text-align: right;\n",
       "    }\n",
       "</style>\n",
       "<table border=\"1\" class=\"dataframe\">\n",
       "  <thead>\n",
       "    <tr style=\"text-align: right;\">\n",
       "      <th></th>\n",
       "      <th>movieId</th>\n",
       "      <th>title</th>\n",
       "      <th>genres</th>\n",
       "      <th>avgRating</th>\n",
       "      <th>numOfRatings</th>\n",
       "      <th>relativityFactor</th>\n",
       "    </tr>\n",
       "  </thead>\n",
       "  <tbody>\n",
       "    <tr>\n",
       "      <th>22209</th>\n",
       "      <td>106236</td>\n",
       "      <td>Somm (2012)</td>\n",
       "      <td>Documentary</td>\n",
       "      <td>3.491667</td>\n",
       "      <td>60</td>\n",
       "      <td>2.29450</td>\n",
       "    </tr>\n",
       "    <tr>\n",
       "      <th>18948</th>\n",
       "      <td>93840</td>\n",
       "      <td>Cabin in the Woods, The (2012)</td>\n",
       "      <td>Comedy|Horror|Sci-Fi|Thriller</td>\n",
       "      <td>3.613047</td>\n",
       "      <td>6055</td>\n",
       "      <td>2.18875</td>\n",
       "    </tr>\n",
       "    <tr>\n",
       "      <th>2912</th>\n",
       "      <td>2997</td>\n",
       "      <td>Being John Malkovich (1999)</td>\n",
       "      <td>Comedy|Drama|Fantasy</td>\n",
       "      <td>3.931551</td>\n",
       "      <td>33390</td>\n",
       "      <td>2.05525</td>\n",
       "    </tr>\n",
       "    <tr>\n",
       "      <th>1172</th>\n",
       "      <td>1197</td>\n",
       "      <td>Princess Bride, The (1987)</td>\n",
       "      <td>Action|Adventure|Comedy|Fantasy|Romance</td>\n",
       "      <td>4.124808</td>\n",
       "      <td>42878</td>\n",
       "      <td>1.99775</td>\n",
       "    </tr>\n",
       "    <tr>\n",
       "      <th>9256</th>\n",
       "      <td>27251</td>\n",
       "      <td>10th Kingdom, The (2000)</td>\n",
       "      <td>Adventure|Comedy|Fantasy</td>\n",
       "      <td>3.880522</td>\n",
       "      <td>498</td>\n",
       "      <td>1.95275</td>\n",
       "    </tr>\n",
       "  </tbody>\n",
       "</table>\n",
       "</div>"
      ],
      "text/plain": [
       "       movieId                           title  \\\n",
       "22209   106236                     Somm (2012)   \n",
       "18948    93840  Cabin in the Woods, The (2012)   \n",
       "2912      2997     Being John Malkovich (1999)   \n",
       "1172      1197      Princess Bride, The (1987)   \n",
       "9256     27251        10th Kingdom, The (2000)   \n",
       "\n",
       "                                        genres  avgRating  numOfRatings  \\\n",
       "22209                              Documentary   3.491667            60   \n",
       "18948            Comedy|Horror|Sci-Fi|Thriller   3.613047          6055   \n",
       "2912                      Comedy|Drama|Fantasy   3.931551         33390   \n",
       "1172   Action|Adventure|Comedy|Fantasy|Romance   4.124808         42878   \n",
       "9256                  Adventure|Comedy|Fantasy   3.880522           498   \n",
       "\n",
       "       relativityFactor  \n",
       "22209           2.29450  \n",
       "18948           2.18875  \n",
       "2912            2.05525  \n",
       "1172            1.99775  \n",
       "9256            1.95275  "
      ]
     },
     "execution_count": 30,
     "metadata": {},
     "output_type": "execute_result"
    }
   ],
   "source": [
    "agg_related_movies.head()"
   ]
  },
  {
   "cell_type": "markdown",
   "metadata": {},
   "source": [
    "Wow. The Truman Show stands far above on it's own among the dataset. This tells us that The Truman Show does not have many common films like it. Both the KMeans and Agglomerative Clustering yielded similar results. \n",
    "\n",
    "The suggested films include Comedic, Drama and Sci-Fi/Fantasy films. All of which are genres of our central film The Truman Show. Both the K-Means and Hierarchcial Agglomeritive Clustering methods seem to be very similar to one another. K-Means was an easy choice to use as it has proven to be direct and fast with a large popularity in the Data Science field. The HAC method builds clusters in a tree-like \"hierarchical\" structure which was convenient in our visualizing of t "
   ]
  }
 ],
 "metadata": {
  "kernelspec": {
   "display_name": "Python 3",
   "language": "python",
   "name": "python3"
  },
  "language_info": {
   "codemirror_mode": {
    "name": "ipython",
    "version": 3
   },
   "file_extension": ".py",
   "mimetype": "text/x-python",
   "name": "python",
   "nbconvert_exporter": "python",
   "pygments_lexer": "ipython3",
   "version": "3.8.5"
  }
 },
 "nbformat": 4,
 "nbformat_minor": 4
}
